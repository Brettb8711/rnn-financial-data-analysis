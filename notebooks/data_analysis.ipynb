{
 "cells": [
  {
   "cell_type": "code",
   "execution_count": 1,
   "metadata": {},
   "outputs": [
    {
     "name": "stdout",
     "output_type": "stream",
     "text": [
      "Using matplotlib backend: module://matplotlib_inline.backend_inline\n"
     ]
    }
   ],
   "source": [
    "# Imports and definitions\n",
    "import pandas as pd\n",
    "import numpy as np\n",
    "import yfinance as yf\n",
    "from sklearn.preprocessing import MinMaxScaler\n",
    "import os\n",
    "%matplotlib\n"
   ]
  },
  {
   "cell_type": "code",
   "execution_count": 2,
   "metadata": {},
   "outputs": [
    {
     "name": "stderr",
     "output_type": "stream",
     "text": [
      "[*********************100%***********************]  4 of 4 completed\n"
     ]
    },
    {
     "data": {
      "text/html": [
       "<div>\n",
       "<style scoped>\n",
       "    .dataframe tbody tr th:only-of-type {\n",
       "        vertical-align: middle;\n",
       "    }\n",
       "\n",
       "    .dataframe tbody tr th {\n",
       "        vertical-align: top;\n",
       "    }\n",
       "\n",
       "    .dataframe thead tr th {\n",
       "        text-align: left;\n",
       "    }\n",
       "\n",
       "    .dataframe thead tr:last-of-type th {\n",
       "        text-align: right;\n",
       "    }\n",
       "</style>\n",
       "<table border=\"1\" class=\"dataframe\">\n",
       "  <thead>\n",
       "    <tr>\n",
       "      <th>Price</th>\n",
       "      <th colspan=\"4\" halign=\"left\">Adj Close</th>\n",
       "      <th colspan=\"4\" halign=\"left\">Close</th>\n",
       "      <th colspan=\"2\" halign=\"left\">High</th>\n",
       "      <th>...</th>\n",
       "      <th colspan=\"2\" halign=\"left\">Low</th>\n",
       "      <th colspan=\"4\" halign=\"left\">Open</th>\n",
       "      <th colspan=\"4\" halign=\"left\">Volume</th>\n",
       "    </tr>\n",
       "    <tr>\n",
       "      <th>Ticker</th>\n",
       "      <th>AAPL</th>\n",
       "      <th>MSFT</th>\n",
       "      <th>SPY</th>\n",
       "      <th>TSLA</th>\n",
       "      <th>AAPL</th>\n",
       "      <th>MSFT</th>\n",
       "      <th>SPY</th>\n",
       "      <th>TSLA</th>\n",
       "      <th>AAPL</th>\n",
       "      <th>MSFT</th>\n",
       "      <th>...</th>\n",
       "      <th>SPY</th>\n",
       "      <th>TSLA</th>\n",
       "      <th>AAPL</th>\n",
       "      <th>MSFT</th>\n",
       "      <th>SPY</th>\n",
       "      <th>TSLA</th>\n",
       "      <th>AAPL</th>\n",
       "      <th>MSFT</th>\n",
       "      <th>SPY</th>\n",
       "      <th>TSLA</th>\n",
       "    </tr>\n",
       "    <tr>\n",
       "      <th>Date</th>\n",
       "      <th></th>\n",
       "      <th></th>\n",
       "      <th></th>\n",
       "      <th></th>\n",
       "      <th></th>\n",
       "      <th></th>\n",
       "      <th></th>\n",
       "      <th></th>\n",
       "      <th></th>\n",
       "      <th></th>\n",
       "      <th></th>\n",
       "      <th></th>\n",
       "      <th></th>\n",
       "      <th></th>\n",
       "      <th></th>\n",
       "      <th></th>\n",
       "      <th></th>\n",
       "      <th></th>\n",
       "      <th></th>\n",
       "      <th></th>\n",
       "      <th></th>\n",
       "    </tr>\n",
       "  </thead>\n",
       "  <tbody>\n",
       "    <tr>\n",
       "      <th>2021-01-04</th>\n",
       "      <td>126.544220</td>\n",
       "      <td>210.844299</td>\n",
       "      <td>348.299438</td>\n",
       "      <td>243.256668</td>\n",
       "      <td>129.410004</td>\n",
       "      <td>217.690002</td>\n",
       "      <td>368.790009</td>\n",
       "      <td>243.256668</td>\n",
       "      <td>133.610001</td>\n",
       "      <td>223.000000</td>\n",
       "      <td>...</td>\n",
       "      <td>364.820007</td>\n",
       "      <td>239.063339</td>\n",
       "      <td>133.520004</td>\n",
       "      <td>222.529999</td>\n",
       "      <td>375.309998</td>\n",
       "      <td>239.820007</td>\n",
       "      <td>143301900</td>\n",
       "      <td>37130100</td>\n",
       "      <td>110210800</td>\n",
       "      <td>145914600</td>\n",
       "    </tr>\n",
       "    <tr>\n",
       "      <th>2021-01-05</th>\n",
       "      <td>128.108749</td>\n",
       "      <td>211.047668</td>\n",
       "      <td>350.698273</td>\n",
       "      <td>245.036667</td>\n",
       "      <td>131.009995</td>\n",
       "      <td>217.899994</td>\n",
       "      <td>371.329987</td>\n",
       "      <td>245.036667</td>\n",
       "      <td>131.740005</td>\n",
       "      <td>218.520004</td>\n",
       "      <td>...</td>\n",
       "      <td>368.049988</td>\n",
       "      <td>239.733337</td>\n",
       "      <td>128.889999</td>\n",
       "      <td>217.259995</td>\n",
       "      <td>368.100006</td>\n",
       "      <td>241.220001</td>\n",
       "      <td>97664900</td>\n",
       "      <td>23823000</td>\n",
       "      <td>66426200</td>\n",
       "      <td>96735600</td>\n",
       "    </tr>\n",
       "    <tr>\n",
       "      <th>2021-01-06</th>\n",
       "      <td>123.796440</td>\n",
       "      <td>205.575363</td>\n",
       "      <td>352.794891</td>\n",
       "      <td>251.993332</td>\n",
       "      <td>126.599998</td>\n",
       "      <td>212.250000</td>\n",
       "      <td>373.549988</td>\n",
       "      <td>251.993332</td>\n",
       "      <td>131.050003</td>\n",
       "      <td>216.490005</td>\n",
       "      <td>...</td>\n",
       "      <td>369.119995</td>\n",
       "      <td>249.699997</td>\n",
       "      <td>127.720001</td>\n",
       "      <td>212.169998</td>\n",
       "      <td>369.709991</td>\n",
       "      <td>252.830002</td>\n",
       "      <td>155088000</td>\n",
       "      <td>35930700</td>\n",
       "      <td>107997700</td>\n",
       "      <td>134100000</td>\n",
       "    </tr>\n",
       "    <tr>\n",
       "      <th>2021-01-07</th>\n",
       "      <td>128.020798</td>\n",
       "      <td>211.425430</td>\n",
       "      <td>358.036560</td>\n",
       "      <td>272.013336</td>\n",
       "      <td>130.919998</td>\n",
       "      <td>218.289993</td>\n",
       "      <td>379.100006</td>\n",
       "      <td>272.013336</td>\n",
       "      <td>131.630005</td>\n",
       "      <td>219.339996</td>\n",
       "      <td>...</td>\n",
       "      <td>375.910004</td>\n",
       "      <td>258.399994</td>\n",
       "      <td>128.360001</td>\n",
       "      <td>214.039993</td>\n",
       "      <td>376.100006</td>\n",
       "      <td>259.209991</td>\n",
       "      <td>109578200</td>\n",
       "      <td>27694500</td>\n",
       "      <td>68766800</td>\n",
       "      <td>154496700</td>\n",
       "    </tr>\n",
       "    <tr>\n",
       "      <th>2021-01-08</th>\n",
       "      <td>129.125763</td>\n",
       "      <td>212.713593</td>\n",
       "      <td>360.076569</td>\n",
       "      <td>293.339996</td>\n",
       "      <td>132.050003</td>\n",
       "      <td>219.619995</td>\n",
       "      <td>381.260010</td>\n",
       "      <td>293.339996</td>\n",
       "      <td>132.630005</td>\n",
       "      <td>220.580002</td>\n",
       "      <td>...</td>\n",
       "      <td>377.100006</td>\n",
       "      <td>279.463318</td>\n",
       "      <td>132.429993</td>\n",
       "      <td>218.679993</td>\n",
       "      <td>380.589996</td>\n",
       "      <td>285.333344</td>\n",
       "      <td>105158200</td>\n",
       "      <td>22956200</td>\n",
       "      <td>71677200</td>\n",
       "      <td>225166500</td>\n",
       "    </tr>\n",
       "  </tbody>\n",
       "</table>\n",
       "<p>5 rows × 24 columns</p>\n",
       "</div>"
      ],
      "text/plain": [
       "Price        Adj Close                                           Close  \\\n",
       "Ticker            AAPL        MSFT         SPY        TSLA        AAPL   \n",
       "Date                                                                     \n",
       "2021-01-04  126.544220  210.844299  348.299438  243.256668  129.410004   \n",
       "2021-01-05  128.108749  211.047668  350.698273  245.036667  131.009995   \n",
       "2021-01-06  123.796440  205.575363  352.794891  251.993332  126.599998   \n",
       "2021-01-07  128.020798  211.425430  358.036560  272.013336  130.919998   \n",
       "2021-01-08  129.125763  212.713593  360.076569  293.339996  132.050003   \n",
       "\n",
       "Price                                                 High              ...  \\\n",
       "Ticker            MSFT         SPY        TSLA        AAPL        MSFT  ...   \n",
       "Date                                                                    ...   \n",
       "2021-01-04  217.690002  368.790009  243.256668  133.610001  223.000000  ...   \n",
       "2021-01-05  217.899994  371.329987  245.036667  131.740005  218.520004  ...   \n",
       "2021-01-06  212.250000  373.549988  251.993332  131.050003  216.490005  ...   \n",
       "2021-01-07  218.289993  379.100006  272.013336  131.630005  219.339996  ...   \n",
       "2021-01-08  219.619995  381.260010  293.339996  132.630005  220.580002  ...   \n",
       "\n",
       "Price              Low                    Open                          \\\n",
       "Ticker             SPY        TSLA        AAPL        MSFT         SPY   \n",
       "Date                                                                     \n",
       "2021-01-04  364.820007  239.063339  133.520004  222.529999  375.309998   \n",
       "2021-01-05  368.049988  239.733337  128.889999  217.259995  368.100006   \n",
       "2021-01-06  369.119995  249.699997  127.720001  212.169998  369.709991   \n",
       "2021-01-07  375.910004  258.399994  128.360001  214.039993  376.100006   \n",
       "2021-01-08  377.100006  279.463318  132.429993  218.679993  380.589996   \n",
       "\n",
       "Price                      Volume                                  \n",
       "Ticker            TSLA       AAPL      MSFT        SPY       TSLA  \n",
       "Date                                                               \n",
       "2021-01-04  239.820007  143301900  37130100  110210800  145914600  \n",
       "2021-01-05  241.220001   97664900  23823000   66426200   96735600  \n",
       "2021-01-06  252.830002  155088000  35930700  107997700  134100000  \n",
       "2021-01-07  259.209991  109578200  27694500   68766800  154496700  \n",
       "2021-01-08  285.333344  105158200  22956200   71677200  225166500  \n",
       "\n",
       "[5 rows x 24 columns]"
      ]
     },
     "execution_count": 2,
     "metadata": {},
     "output_type": "execute_result"
    }
   ],
   "source": [
    "px = yf.download(['AAPL', 'TSLA', 'SPY', 'MSFT'], start='2021-01-01', end='2024-01-01')\n",
    "px.head()"
   ]
  },
  {
   "cell_type": "code",
   "execution_count": 4,
   "metadata": {},
   "outputs": [
    {
     "data": {
      "text/plain": [
       "<Axes: xlabel='Date'>"
      ]
     },
     "execution_count": 4,
     "metadata": {},
     "output_type": "execute_result"
    },
    {
     "data": {
      "image/png": "[encoded data removed]",
      "text/plain": [
       "<Figure size 640x480 with 1 Axes>"
      ]
     },
     "metadata": {},
     "output_type": "display_data"
    }
   ],
   "source": [
    "px['Adj Close'].plot()"
   ]
  },
  {
   "cell_type": "code",
   "execution_count": 5,
   "metadata": {},
   "outputs": [
    {
     "data": {
      "text/html": [
       "<div>\n",
       "<style scoped>\n",
       "    .dataframe tbody tr th:only-of-type {\n",
       "        vertical-align: middle;\n",
       "    }\n",
       "\n",
       "    .dataframe tbody tr th {\n",
       "        vertical-align: top;\n",
       "    }\n",
       "\n",
       "    .dataframe thead th {\n",
       "        text-align: right;\n",
       "    }\n",
       "</style>\n",
       "<table border=\"1\" class=\"dataframe\">\n",
       "  <thead>\n",
       "    <tr style=\"text-align: right;\">\n",
       "      <th>Ticker</th>\n",
       "      <th>AAPL</th>\n",
       "      <th>MSFT</th>\n",
       "      <th>SPY</th>\n",
       "      <th>TSLA</th>\n",
       "    </tr>\n",
       "    <tr>\n",
       "      <th>Ticker</th>\n",
       "      <th></th>\n",
       "      <th></th>\n",
       "      <th></th>\n",
       "      <th></th>\n",
       "    </tr>\n",
       "  </thead>\n",
       "  <tbody>\n",
       "    <tr>\n",
       "      <th>AAPL</th>\n",
       "      <td>1.000000</td>\n",
       "      <td>0.873671</td>\n",
       "      <td>0.739990</td>\n",
       "      <td>0.310423</td>\n",
       "    </tr>\n",
       "    <tr>\n",
       "      <th>MSFT</th>\n",
       "      <td>0.873671</td>\n",
       "      <td>1.000000</td>\n",
       "      <td>0.898984</td>\n",
       "      <td>0.355374</td>\n",
       "    </tr>\n",
       "    <tr>\n",
       "      <th>SPY</th>\n",
       "      <td>0.739990</td>\n",
       "      <td>0.898984</td>\n",
       "      <td>1.000000</td>\n",
       "      <td>0.464138</td>\n",
       "    </tr>\n",
       "    <tr>\n",
       "      <th>TSLA</th>\n",
       "      <td>0.310423</td>\n",
       "      <td>0.355374</td>\n",
       "      <td>0.464138</td>\n",
       "      <td>1.000000</td>\n",
       "    </tr>\n",
       "  </tbody>\n",
       "</table>\n",
       "</div>"
      ],
      "text/plain": [
       "Ticker      AAPL      MSFT       SPY      TSLA\n",
       "Ticker                                        \n",
       "AAPL    1.000000  0.873671  0.739990  0.310423\n",
       "MSFT    0.873671  1.000000  0.898984  0.355374\n",
       "SPY     0.739990  0.898984  1.000000  0.464138\n",
       "TSLA    0.310423  0.355374  0.464138  1.000000"
      ]
     },
     "execution_count": 5,
     "metadata": {},
     "output_type": "execute_result"
    }
   ],
   "source": [
    "px['Adj Close'].corr()"
   ]
  },
  {
   "cell_type": "code",
   "execution_count": 6,
   "metadata": {},
   "outputs": [],
   "source": [
    "prices_df = px['Adj Close']"
   ]
  },
  {
   "cell_type": "markdown",
   "metadata": {},
   "source": [
    "Check for missing Values"
   ]
  },
  {
   "cell_type": "code",
   "execution_count": 7,
   "metadata": {},
   "outputs": [
    {
     "data": {
      "text/plain": [
       "Ticker\n",
       "AAPL    0\n",
       "MSFT    0\n",
       "SPY     0\n",
       "TSLA    0\n",
       "dtype: int64"
      ]
     },
     "execution_count": 7,
     "metadata": {},
     "output_type": "execute_result"
    }
   ],
   "source": [
    "prices_df.isna().sum()"
   ]
  },
  {
   "cell_type": "markdown",
   "metadata": {},
   "source": [
    "Now that we have confirmed there is no missing data, we can continue with the preprocessing"
   ]
  },
  {
   "cell_type": "markdown",
   "metadata": {},
   "source": [
    "### Normalize the Data"
   ]
  },
  {
   "cell_type": "code",
   "execution_count": 8,
   "metadata": {},
   "outputs": [
    {
     "data": {
      "text/html": [
       "<div>\n",
       "<style scoped>\n",
       "    .dataframe tbody tr th:only-of-type {\n",
       "        vertical-align: middle;\n",
       "    }\n",
       "\n",
       "    .dataframe tbody tr th {\n",
       "        vertical-align: top;\n",
       "    }\n",
       "\n",
       "    .dataframe thead th {\n",
       "        text-align: right;\n",
       "    }\n",
       "</style>\n",
       "<table border=\"1\" class=\"dataframe\">\n",
       "  <thead>\n",
       "    <tr style=\"text-align: right;\">\n",
       "      <th>Ticker</th>\n",
       "      <th>AAPL</th>\n",
       "      <th>MSFT</th>\n",
       "      <th>SPY</th>\n",
       "      <th>TSLA</th>\n",
       "    </tr>\n",
       "    <tr>\n",
       "      <th>Date</th>\n",
       "      <th></th>\n",
       "      <th></th>\n",
       "      <th></th>\n",
       "      <th></th>\n",
       "    </tr>\n",
       "  </thead>\n",
       "  <tbody>\n",
       "    <tr>\n",
       "      <th>2021-01-04</th>\n",
       "      <td>0.151350</td>\n",
       "      <td>0.030101</td>\n",
       "      <td>0.024795</td>\n",
       "      <td>0.447731</td>\n",
       "    </tr>\n",
       "    <tr>\n",
       "      <th>2021-01-05</th>\n",
       "      <td>0.170157</td>\n",
       "      <td>0.031262</td>\n",
       "      <td>0.043915</td>\n",
       "      <td>0.453628</td>\n",
       "    </tr>\n",
       "    <tr>\n",
       "      <th>2021-01-06</th>\n",
       "      <td>0.118321</td>\n",
       "      <td>0.000000</td>\n",
       "      <td>0.060625</td>\n",
       "      <td>0.476673</td>\n",
       "    </tr>\n",
       "    <tr>\n",
       "      <th>2021-01-07</th>\n",
       "      <td>0.169100</td>\n",
       "      <td>0.033420</td>\n",
       "      <td>0.102404</td>\n",
       "      <td>0.542993</td>\n",
       "    </tr>\n",
       "    <tr>\n",
       "      <th>2021-01-08</th>\n",
       "      <td>0.182382</td>\n",
       "      <td>0.040780</td>\n",
       "      <td>0.118663</td>\n",
       "      <td>0.613642</td>\n",
       "    </tr>\n",
       "  </tbody>\n",
       "</table>\n",
       "</div>"
      ],
      "text/plain": [
       "Ticker          AAPL      MSFT       SPY      TSLA\n",
       "Date                                              \n",
       "2021-01-04  0.151350  0.030101  0.024795  0.447731\n",
       "2021-01-05  0.170157  0.031262  0.043915  0.453628\n",
       "2021-01-06  0.118321  0.000000  0.060625  0.476673\n",
       "2021-01-07  0.169100  0.033420  0.102404  0.542993\n",
       "2021-01-08  0.182382  0.040780  0.118663  0.613642"
      ]
     },
     "execution_count": 8,
     "metadata": {},
     "output_type": "execute_result"
    }
   ],
   "source": [
    "# Normailze use the min and max of the column\n",
    "scaler = MinMaxScaler()\n",
    "normalized_data = scaler.fit_transform(prices_df)\n",
    "\n",
    "# Convert to a Data Frame\n",
    "normalized_df = pd.DataFrame(normalized_data, columns= prices_df.columns, index= prices_df.index)\n",
    "normalized_df.head()"
   ]
  },
  {
   "cell_type": "code",
   "execution_count": 9,
   "metadata": {},
   "outputs": [],
   "source": [
    "def create_sequences(data, seq_length):\n",
    "    X, y = [], []\n",
    "    for i in range(len(data) - seq_length):\n",
    "        # The values from the sequence length to the data point \n",
    "        X.append(data[i:i+seq_length])\n",
    "\n",
    "        # The end Data Point, the goal is using the 50,100,1000, etc values before to predict the current\n",
    "        y.append(data[i+seq_length])\n",
    "    return np.array(X), np.array(y)\n",
    "\n",
    "seq_len = 100\n",
    "spy_data = normalized_df['SPY'].values\n",
    "X, y = create_sequences(spy_data, seq_len)"
   ]
  },
  {
   "cell_type": "code",
   "execution_count": 10,
   "metadata": {},
   "outputs": [
    {
     "data": {
      "text/plain": [
       "array([[0.02479488, 0.04391455, 0.06062545, ..., 0.41436696, 0.40734324,\n",
       "        0.41361195],\n",
       "       [0.04391455, 0.06062545, 0.10240365, ..., 0.40734324, 0.41361195,\n",
       "        0.41527326],\n",
       "       [0.06062545, 0.10240365, 0.11866333, ..., 0.41361195, 0.41527326,\n",
       "        0.42093753],\n",
       "       ...,\n",
       "       [0.73835325, 0.76881289, 0.75350475, ..., 0.96860098, 0.97607688,\n",
       "        0.99181579],\n",
       "       [0.76881289, 0.75350475, 0.73007467, ..., 0.97607688, 0.99181579,\n",
       "        0.99858363],\n",
       "       [0.75350475, 0.73007467, 0.73132418, ..., 0.99181579, 0.99858363,\n",
       "        1.        ]])"
      ]
     },
     "execution_count": 10,
     "metadata": {},
     "output_type": "execute_result"
    }
   ],
   "source": [
    "X"
   ]
  },
  {
   "cell_type": "markdown",
   "metadata": {},
   "source": [
    "### Data Split\n",
    "Now we can split the data into Training and Testing"
   ]
  },
  {
   "cell_type": "code",
   "execution_count": 22,
   "metadata": {},
   "outputs": [
    {
     "name": "stdout",
     "output_type": "stream",
     "text": [
      "Train shape: (522, 100), Test shape: (131, 100)\n"
     ]
    }
   ],
   "source": [
    "from sklearn.model_selection import train_test_split\n",
    "\n",
    "X_train, X_test, y_train, y_test = train_test_split(X, y, test_size=0.2, random_state=42)\n",
    "print(f\"Train shape: {X_train.shape}, Test shape: {X_test.shape}\")"
   ]
  },
  {
   "cell_type": "markdown",
   "metadata": {},
   "source": [
    "### Save the Data\n",
    "Now that we have confirmed the data to be the same length, we can save the training and testing data to the data folder"
   ]
  },
  {
   "cell_type": "code",
   "execution_count": 23,
   "metadata": {},
   "outputs": [],
   "source": [
    "np.save('../data/X_train.npy', X_train)\n",
    "np.save('../data/X_test.npy', X_test)\n",
    "np.save('../data/y_train.npy', y_train)\n",
    "np.save('../data/y_test.npy', y_test)"
   ]
  }
 ],
 "metadata": {
  "kernelspec": {
   "display_name": "Python 3",
   "language": "python",
   "name": "python3"
  },
  "language_info": {
   "codemirror_mode": {
    "name": "ipython",
    "version": 3
   },
   "file_extension": ".py",
   "mimetype": "text/x-python",
   "name": "python",
   "nbconvert_exporter": "python",
   "pygments_lexer": "ipython3",
   "version": "3.12.5"
  }
 },
 "nbformat": 4,
 "nbformat_minor": 2
}
