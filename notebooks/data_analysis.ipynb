{
 "cells": [
  {
   "cell_type": "code",
   "execution_count": 8,
   "metadata": {},
   "outputs": [
    {
     "name": "stdout",
     "output_type": "stream",
     "text": [
      "Using matplotlib backend: module://matplotlib_inline.backend_inline\n"
     ]
    }
   ],
   "source": [
    "# Imports and definitions\n",
    "import pandas as pd\n",
    "import numpy as np\n",
    "import yfinance as yf\n",
    "from sklearn.preprocessing import MinMaxScaler\n",
    "import os\n",
    "%matplotlib\n"
   ]
  },
  {
   "cell_type": "code",
   "execution_count": 2,
   "metadata": {},
   "outputs": [
    {
     "name": "stderr",
     "output_type": "stream",
     "text": [
      "[*********************100%***********************]  4 of 4 completed\n"
     ]
    },
    {
     "data": {
      "text/html": [
       "<div>\n",
       "<style scoped>\n",
       "    .dataframe tbody tr th:only-of-type {\n",
       "        vertical-align: middle;\n",
       "    }\n",
       "\n",
       "    .dataframe tbody tr th {\n",
       "        vertical-align: top;\n",
       "    }\n",
       "\n",
       "    .dataframe thead tr th {\n",
       "        text-align: left;\n",
       "    }\n",
       "\n",
       "    .dataframe thead tr:last-of-type th {\n",
       "        text-align: right;\n",
       "    }\n",
       "</style>\n",
       "<table border=\"1\" class=\"dataframe\">\n",
       "  <thead>\n",
       "    <tr>\n",
       "      <th>Price</th>\n",
       "      <th colspan=\"4\" halign=\"left\">Adj Close</th>\n",
       "      <th colspan=\"4\" halign=\"left\">Close</th>\n",
       "      <th colspan=\"4\" halign=\"left\">High</th>\n",
       "      <th colspan=\"4\" halign=\"left\">Low</th>\n",
       "      <th colspan=\"4\" halign=\"left\">Open</th>\n",
       "      <th colspan=\"4\" halign=\"left\">Volume</th>\n",
       "    </tr>\n",
       "    <tr>\n",
       "      <th>Ticker</th>\n",
       "      <th>AAPL</th>\n",
       "      <th>MSFT</th>\n",
       "      <th>SPY</th>\n",
       "      <th>TSLA</th>\n",
       "      <th>AAPL</th>\n",
       "      <th>MSFT</th>\n",
       "      <th>SPY</th>\n",
       "      <th>TSLA</th>\n",
       "      <th>AAPL</th>\n",
       "      <th>MSFT</th>\n",
       "      <th>SPY</th>\n",
       "      <th>TSLA</th>\n",
       "      <th>AAPL</th>\n",
       "      <th>MSFT</th>\n",
       "      <th>SPY</th>\n",
       "      <th>TSLA</th>\n",
       "      <th>AAPL</th>\n",
       "      <th>MSFT</th>\n",
       "      <th>SPY</th>\n",
       "      <th>TSLA</th>\n",
       "      <th>AAPL</th>\n",
       "      <th>MSFT</th>\n",
       "      <th>SPY</th>\n",
       "      <th>TSLA</th>\n",
       "    </tr>\n",
       "    <tr>\n",
       "      <th>Date</th>\n",
       "      <th></th>\n",
       "      <th></th>\n",
       "      <th></th>\n",
       "      <th></th>\n",
       "      <th></th>\n",
       "      <th></th>\n",
       "      <th></th>\n",
       "      <th></th>\n",
       "      <th></th>\n",
       "      <th></th>\n",
       "      <th></th>\n",
       "      <th></th>\n",
       "      <th></th>\n",
       "      <th></th>\n",
       "      <th></th>\n",
       "      <th></th>\n",
       "      <th></th>\n",
       "      <th></th>\n",
       "      <th></th>\n",
       "      <th></th>\n",
       "      <th></th>\n",
       "      <th></th>\n",
       "      <th></th>\n",
       "      <th></th>\n",
       "    </tr>\n",
       "  </thead>\n",
       "  <tbody>\n",
       "    <tr>\n",
       "      <th>2021-01-04</th>\n",
       "      <td>126.544212</td>\n",
       "      <td>210.844315</td>\n",
       "      <td>348.299347</td>\n",
       "      <td>243.256668</td>\n",
       "      <td>129.410004</td>\n",
       "      <td>217.690002</td>\n",
       "      <td>368.790009</td>\n",
       "      <td>243.256668</td>\n",
       "      <td>133.610001</td>\n",
       "      <td>223.000000</td>\n",
       "      <td>375.450012</td>\n",
       "      <td>248.163330</td>\n",
       "      <td>126.760002</td>\n",
       "      <td>214.809998</td>\n",
       "      <td>364.820007</td>\n",
       "      <td>239.063339</td>\n",
       "      <td>133.520004</td>\n",
       "      <td>222.529999</td>\n",
       "      <td>375.309998</td>\n",
       "      <td>239.820007</td>\n",
       "      <td>143301900</td>\n",
       "      <td>37130100</td>\n",
       "      <td>110210800</td>\n",
       "      <td>145914600</td>\n",
       "    </tr>\n",
       "    <tr>\n",
       "      <th>2021-01-05</th>\n",
       "      <td>128.108765</td>\n",
       "      <td>211.047668</td>\n",
       "      <td>350.698273</td>\n",
       "      <td>245.036667</td>\n",
       "      <td>131.009995</td>\n",
       "      <td>217.899994</td>\n",
       "      <td>371.329987</td>\n",
       "      <td>245.036667</td>\n",
       "      <td>131.740005</td>\n",
       "      <td>218.520004</td>\n",
       "      <td>372.500000</td>\n",
       "      <td>246.946671</td>\n",
       "      <td>128.429993</td>\n",
       "      <td>215.699997</td>\n",
       "      <td>368.049988</td>\n",
       "      <td>239.733337</td>\n",
       "      <td>128.889999</td>\n",
       "      <td>217.259995</td>\n",
       "      <td>368.100006</td>\n",
       "      <td>241.220001</td>\n",
       "      <td>97664900</td>\n",
       "      <td>23823000</td>\n",
       "      <td>66426200</td>\n",
       "      <td>96735600</td>\n",
       "    </tr>\n",
       "    <tr>\n",
       "      <th>2021-01-06</th>\n",
       "      <td>123.796432</td>\n",
       "      <td>205.575333</td>\n",
       "      <td>352.794983</td>\n",
       "      <td>251.993332</td>\n",
       "      <td>126.599998</td>\n",
       "      <td>212.250000</td>\n",
       "      <td>373.549988</td>\n",
       "      <td>251.993332</td>\n",
       "      <td>131.050003</td>\n",
       "      <td>216.490005</td>\n",
       "      <td>376.980011</td>\n",
       "      <td>258.000000</td>\n",
       "      <td>126.379997</td>\n",
       "      <td>211.940002</td>\n",
       "      <td>369.119995</td>\n",
       "      <td>249.699997</td>\n",
       "      <td>127.720001</td>\n",
       "      <td>212.169998</td>\n",
       "      <td>369.709991</td>\n",
       "      <td>252.830002</td>\n",
       "      <td>155088000</td>\n",
       "      <td>35930700</td>\n",
       "      <td>107997700</td>\n",
       "      <td>134100000</td>\n",
       "    </tr>\n",
       "    <tr>\n",
       "      <th>2021-01-07</th>\n",
       "      <td>128.020767</td>\n",
       "      <td>211.425415</td>\n",
       "      <td>358.036560</td>\n",
       "      <td>272.013336</td>\n",
       "      <td>130.919998</td>\n",
       "      <td>218.289993</td>\n",
       "      <td>379.100006</td>\n",
       "      <td>272.013336</td>\n",
       "      <td>131.630005</td>\n",
       "      <td>219.339996</td>\n",
       "      <td>379.899994</td>\n",
       "      <td>272.329987</td>\n",
       "      <td>127.860001</td>\n",
       "      <td>213.710007</td>\n",
       "      <td>375.910004</td>\n",
       "      <td>258.399994</td>\n",
       "      <td>128.360001</td>\n",
       "      <td>214.039993</td>\n",
       "      <td>376.100006</td>\n",
       "      <td>259.209991</td>\n",
       "      <td>109578200</td>\n",
       "      <td>27694500</td>\n",
       "      <td>68766800</td>\n",
       "      <td>154496700</td>\n",
       "    </tr>\n",
       "    <tr>\n",
       "      <th>2021-01-08</th>\n",
       "      <td>129.125793</td>\n",
       "      <td>212.713577</td>\n",
       "      <td>360.076569</td>\n",
       "      <td>293.339996</td>\n",
       "      <td>132.050003</td>\n",
       "      <td>219.619995</td>\n",
       "      <td>381.260010</td>\n",
       "      <td>293.339996</td>\n",
       "      <td>132.630005</td>\n",
       "      <td>220.580002</td>\n",
       "      <td>381.489990</td>\n",
       "      <td>294.829987</td>\n",
       "      <td>130.229996</td>\n",
       "      <td>217.029999</td>\n",
       "      <td>377.100006</td>\n",
       "      <td>279.463318</td>\n",
       "      <td>132.429993</td>\n",
       "      <td>218.679993</td>\n",
       "      <td>380.589996</td>\n",
       "      <td>285.333344</td>\n",
       "      <td>105158200</td>\n",
       "      <td>22956200</td>\n",
       "      <td>71677200</td>\n",
       "      <td>225166500</td>\n",
       "    </tr>\n",
       "  </tbody>\n",
       "</table>\n",
       "</div>"
      ],
      "text/plain": [
       "Price        Adj Close                          ...    Volume                      \n",
       "Ticker            AAPL        MSFT         SPY  ...      MSFT        SPY       TSLA\n",
       "Date                                            ...                                \n",
       "2021-01-04  126.544212  210.844315  348.299347  ...  37130100  110210800  145914600\n",
       "2021-01-05  128.108765  211.047668  350.698273  ...  23823000   66426200   96735600\n",
       "2021-01-06  123.796432  205.575333  352.794983  ...  35930700  107997700  134100000\n",
       "2021-01-07  128.020767  211.425415  358.036560  ...  27694500   68766800  154496700\n",
       "2021-01-08  129.125793  212.713577  360.076569  ...  22956200   71677200  225166500\n",
       "\n",
       "[5 rows x 24 columns]"
      ]
     },
     "execution_count": 2,
     "metadata": {},
     "output_type": "execute_result"
    }
   ],
   "source": [
    "px = yf.download(['AAPL', 'TSLA', 'SPY', 'MSFT'], start='2021-01-01', end='2024-01-01')\n",
    "px.head()"
   ]
  },
  {
   "cell_type": "code",
   "execution_count": 3,
   "metadata": {},
   "outputs": [
    {
     "data": {
      "text/plain": [
       "<Axes: xlabel='Date'>"
      ]
     },
     "execution_count": 3,
     "metadata": {},
     "output_type": "execute_result"
    },
    {
     "data": {
      "image/png": "[encoded data removed]",
      "text/plain": [
       "<Figure size 640x480 with 1 Axes>"
      ]
     },
     "metadata": {},
     "output_type": "display_data"
    }
   ],
   "source": [
    "px['Adj Close'].plot()"
   ]
  },
  {
   "cell_type": "code",
   "execution_count": 4,
   "metadata": {},
   "outputs": [
    {
     "data": {
      "text/html": [
       "<div>\n",
       "<style scoped>\n",
       "    .dataframe tbody tr th:only-of-type {\n",
       "        vertical-align: middle;\n",
       "    }\n",
       "\n",
       "    .dataframe tbody tr th {\n",
       "        vertical-align: top;\n",
       "    }\n",
       "\n",
       "    .dataframe thead th {\n",
       "        text-align: right;\n",
       "    }\n",
       "</style>\n",
       "<table border=\"1\" class=\"dataframe\">\n",
       "  <thead>\n",
       "    <tr style=\"text-align: right;\">\n",
       "      <th>Ticker</th>\n",
       "      <th>AAPL</th>\n",
       "      <th>MSFT</th>\n",
       "      <th>SPY</th>\n",
       "      <th>TSLA</th>\n",
       "    </tr>\n",
       "    <tr>\n",
       "      <th>Ticker</th>\n",
       "      <th></th>\n",
       "      <th></th>\n",
       "      <th></th>\n",
       "      <th></th>\n",
       "    </tr>\n",
       "  </thead>\n",
       "  <tbody>\n",
       "    <tr>\n",
       "      <th>AAPL</th>\n",
       "      <td>1.000000</td>\n",
       "      <td>0.873671</td>\n",
       "      <td>0.739990</td>\n",
       "      <td>0.310423</td>\n",
       "    </tr>\n",
       "    <tr>\n",
       "      <th>MSFT</th>\n",
       "      <td>0.873671</td>\n",
       "      <td>1.000000</td>\n",
       "      <td>0.898984</td>\n",
       "      <td>0.355374</td>\n",
       "    </tr>\n",
       "    <tr>\n",
       "      <th>SPY</th>\n",
       "      <td>0.739990</td>\n",
       "      <td>0.898984</td>\n",
       "      <td>1.000000</td>\n",
       "      <td>0.464138</td>\n",
       "    </tr>\n",
       "    <tr>\n",
       "      <th>TSLA</th>\n",
       "      <td>0.310423</td>\n",
       "      <td>0.355374</td>\n",
       "      <td>0.464138</td>\n",
       "      <td>1.000000</td>\n",
       "    </tr>\n",
       "  </tbody>\n",
       "</table>\n",
       "</div>"
      ],
      "text/plain": [
       "Ticker      AAPL      MSFT       SPY      TSLA\n",
       "Ticker                                        \n",
       "AAPL    1.000000  0.873671  0.739990  0.310423\n",
       "MSFT    0.873671  1.000000  0.898984  0.355374\n",
       "SPY     0.739990  0.898984  1.000000  0.464138\n",
       "TSLA    0.310423  0.355374  0.464138  1.000000"
      ]
     },
     "execution_count": 4,
     "metadata": {},
     "output_type": "execute_result"
    }
   ],
   "source": [
    "px['Adj Close'].corr()"
   ]
  },
  {
   "cell_type": "code",
   "execution_count": 5,
   "metadata": {},
   "outputs": [],
   "source": [
    "prices_df = px['Adj Close']"
   ]
  },
  {
   "cell_type": "markdown",
   "metadata": {},
   "source": [
    "Check for missing Values"
   ]
  },
  {
   "cell_type": "code",
   "execution_count": 6,
   "metadata": {},
   "outputs": [
    {
     "data": {
      "text/plain": [
       "Ticker\n",
       "AAPL    0\n",
       "MSFT    0\n",
       "SPY     0\n",
       "TSLA    0\n",
       "dtype: int64"
      ]
     },
     "execution_count": 6,
     "metadata": {},
     "output_type": "execute_result"
    }
   ],
   "source": [
    "prices_df.isna().sum()"
   ]
  },
  {
   "cell_type": "markdown",
   "metadata": {},
   "source": [
    "Now that we have confirmed there is no missing data, we can continue with the preprocessing"
   ]
  },
  {
   "cell_type": "markdown",
   "metadata": {},
   "source": [
    "### Normalize the Data"
   ]
  },
  {
   "cell_type": "code",
   "execution_count": 7,
   "metadata": {},
   "outputs": [
    {
     "data": {
      "text/html": [
       "<div>\n",
       "<style scoped>\n",
       "    .dataframe tbody tr th:only-of-type {\n",
       "        vertical-align: middle;\n",
       "    }\n",
       "\n",
       "    .dataframe tbody tr th {\n",
       "        vertical-align: top;\n",
       "    }\n",
       "\n",
       "    .dataframe thead th {\n",
       "        text-align: right;\n",
       "    }\n",
       "</style>\n",
       "<table border=\"1\" class=\"dataframe\">\n",
       "  <thead>\n",
       "    <tr style=\"text-align: right;\">\n",
       "      <th>Ticker</th>\n",
       "      <th>AAPL</th>\n",
       "      <th>MSFT</th>\n",
       "      <th>SPY</th>\n",
       "      <th>TSLA</th>\n",
       "    </tr>\n",
       "    <tr>\n",
       "      <th>Date</th>\n",
       "      <th></th>\n",
       "      <th></th>\n",
       "      <th></th>\n",
       "      <th></th>\n",
       "    </tr>\n",
       "  </thead>\n",
       "  <tbody>\n",
       "    <tr>\n",
       "      <th>2021-01-04</th>\n",
       "      <td>0.151350</td>\n",
       "      <td>0.030101</td>\n",
       "      <td>0.024793</td>\n",
       "      <td>0.447731</td>\n",
       "    </tr>\n",
       "    <tr>\n",
       "      <th>2021-01-05</th>\n",
       "      <td>0.170157</td>\n",
       "      <td>0.031263</td>\n",
       "      <td>0.043914</td>\n",
       "      <td>0.453628</td>\n",
       "    </tr>\n",
       "    <tr>\n",
       "      <th>2021-01-06</th>\n",
       "      <td>0.118320</td>\n",
       "      <td>0.000000</td>\n",
       "      <td>0.060625</td>\n",
       "      <td>0.476673</td>\n",
       "    </tr>\n",
       "    <tr>\n",
       "      <th>2021-01-07</th>\n",
       "      <td>0.169099</td>\n",
       "      <td>0.033421</td>\n",
       "      <td>0.102403</td>\n",
       "      <td>0.542993</td>\n",
       "    </tr>\n",
       "    <tr>\n",
       "      <th>2021-01-08</th>\n",
       "      <td>0.182382</td>\n",
       "      <td>0.040780</td>\n",
       "      <td>0.118663</td>\n",
       "      <td>0.613642</td>\n",
       "    </tr>\n",
       "  </tbody>\n",
       "</table>\n",
       "</div>"
      ],
      "text/plain": [
       "Ticker          AAPL      MSFT       SPY      TSLA\n",
       "Date                                              \n",
       "2021-01-04  0.151350  0.030101  0.024793  0.447731\n",
       "2021-01-05  0.170157  0.031263  0.043914  0.453628\n",
       "2021-01-06  0.118320  0.000000  0.060625  0.476673\n",
       "2021-01-07  0.169099  0.033421  0.102403  0.542993\n",
       "2021-01-08  0.182382  0.040780  0.118663  0.613642"
      ]
     },
     "execution_count": 7,
     "metadata": {},
     "output_type": "execute_result"
    }
   ],
   "source": [
    "# Normailze use the min and max of the column\n",
    "scaler = MinMaxScaler()\n",
    "normalized_data = scaler.fit_transform(prices_df)\n",
    "\n",
    "# Convert to a Data Frame\n",
    "normalized_df = pd.DataFrame(normalized_data, columns= prices_df.columns, index= prices_df.index)\n",
    "normalized_df.head()"
   ]
  },
  {
   "cell_type": "code",
   "execution_count": 21,
   "metadata": {},
   "outputs": [
    {
     "ename": "FileNotFoundError",
     "evalue": "[Errno 2] No such file or directory: './data/scaler.pkl'",
     "output_type": "error",
     "traceback": [
      "\u001b[1;31m---------------------------------------------------------------------------\u001b[0m",
      "\u001b[1;31mFileNotFoundError\u001b[0m                         Traceback (most recent call last)",
      "Cell \u001b[1;32mIn[21], line 2\u001b[0m\n\u001b[0;32m      1\u001b[0m \u001b[38;5;28;01mimport\u001b[39;00m \u001b[38;5;21;01mpickle\u001b[39;00m\n\u001b[1;32m----> 2\u001b[0m \u001b[38;5;28;01mwith\u001b[39;00m \u001b[38;5;28;43mopen\u001b[39;49m\u001b[43m(\u001b[49m\u001b[38;5;124;43m'\u001b[39;49m\u001b[38;5;124;43m./data/scaler.pkl\u001b[39;49m\u001b[38;5;124;43m'\u001b[39;49m\u001b[43m,\u001b[49m\u001b[43m \u001b[49m\u001b[38;5;124;43m'\u001b[39;49m\u001b[38;5;124;43mwb\u001b[39;49m\u001b[38;5;124;43m'\u001b[39;49m\u001b[43m)\u001b[49m \u001b[38;5;28;01mas\u001b[39;00m f:\n\u001b[0;32m      3\u001b[0m     pickle\u001b[38;5;241m.\u001b[39mdump(scaler, f)\n",
      "File \u001b[1;32m~\\AppData\\Roaming\\Python\\Python312\\site-packages\\IPython\\core\\interactiveshell.py:324\u001b[0m, in \u001b[0;36m_modified_open\u001b[1;34m(file, *args, **kwargs)\u001b[0m\n\u001b[0;32m    317\u001b[0m \u001b[38;5;28;01mif\u001b[39;00m file \u001b[38;5;129;01min\u001b[39;00m {\u001b[38;5;241m0\u001b[39m, \u001b[38;5;241m1\u001b[39m, \u001b[38;5;241m2\u001b[39m}:\n\u001b[0;32m    318\u001b[0m     \u001b[38;5;28;01mraise\u001b[39;00m \u001b[38;5;167;01mValueError\u001b[39;00m(\n\u001b[0;32m    319\u001b[0m         \u001b[38;5;124mf\u001b[39m\u001b[38;5;124m\"\u001b[39m\u001b[38;5;124mIPython won\u001b[39m\u001b[38;5;124m'\u001b[39m\u001b[38;5;124mt let you open fd=\u001b[39m\u001b[38;5;132;01m{\u001b[39;00mfile\u001b[38;5;132;01m}\u001b[39;00m\u001b[38;5;124m by default \u001b[39m\u001b[38;5;124m\"\u001b[39m\n\u001b[0;32m    320\u001b[0m         \u001b[38;5;124m\"\u001b[39m\u001b[38;5;124mas it is likely to crash IPython. If you know what you are doing, \u001b[39m\u001b[38;5;124m\"\u001b[39m\n\u001b[0;32m    321\u001b[0m         \u001b[38;5;124m\"\u001b[39m\u001b[38;5;124myou can use builtins\u001b[39m\u001b[38;5;124m'\u001b[39m\u001b[38;5;124m open.\u001b[39m\u001b[38;5;124m\"\u001b[39m\n\u001b[0;32m    322\u001b[0m     )\n\u001b[1;32m--> 324\u001b[0m \u001b[38;5;28;01mreturn\u001b[39;00m \u001b[43mio_open\u001b[49m\u001b[43m(\u001b[49m\u001b[43mfile\u001b[49m\u001b[43m,\u001b[49m\u001b[43m \u001b[49m\u001b[38;5;241;43m*\u001b[39;49m\u001b[43margs\u001b[49m\u001b[43m,\u001b[49m\u001b[43m \u001b[49m\u001b[38;5;241;43m*\u001b[39;49m\u001b[38;5;241;43m*\u001b[39;49m\u001b[43mkwargs\u001b[49m\u001b[43m)\u001b[49m\n",
      "\u001b[1;31mFileNotFoundError\u001b[0m: [Errno 2] No such file or directory: './data/scaler.pkl'"
     ]
    }
   ],
   "source": []
  },
  {
   "cell_type": "code",
   "execution_count": 9,
   "metadata": {},
   "outputs": [],
   "source": [
    "def create_sequences(data, seq_length):\n",
    "    X, y = [], []\n",
    "    for i in range(len(data) - seq_length):\n",
    "        # The values from the sequence length to the data point \n",
    "        X.append(data[i:i+seq_length])\n",
    "\n",
    "        # The end Data Point, the goal is using the 50,100,1000, etc values before to predict the current\n",
    "        y.append(data[i+seq_length])\n",
    "    return np.array(X), np.array(y)\n",
    "\n",
    "seq_len = 100\n",
    "spy_data = normalized_df['SPY'].values\n",
    "X, y = create_sequences(spy_data, seq_len)"
   ]
  },
  {
   "cell_type": "markdown",
   "metadata": {},
   "source": [
    "### Data Split\n",
    "Now we can split the data into Training and Testing"
   ]
  },
  {
   "cell_type": "code",
   "execution_count": 22,
   "metadata": {},
   "outputs": [
    {
     "name": "stdout",
     "output_type": "stream",
     "text": [
      "Train shape: (522, 100), Test shape: (131, 100)\n"
     ]
    }
   ],
   "source": [
    "from sklearn.model_selection import train_test_split\n",
    "\n",
    "X_train, X_test, y_train, y_test = train_test_split(X, y, test_size=0.2, random_state=42)\n",
    "print(f\"Train shape: {X_train.shape}, Test shape: {X_test.shape}\")"
   ]
  },
  {
   "cell_type": "markdown",
   "metadata": {},
   "source": [
    "### Save the Data\n",
    "Now that we have confirmed the data to be the same length, we can save the training and testing data to the data folder"
   ]
  },
  {
   "cell_type": "code",
   "execution_count": 23,
   "metadata": {},
   "outputs": [],
   "source": [
    "np.save('../data/X_train.npy', X_train)\n",
    "np.save('../data/X_test.npy', X_test)\n",
    "np.save('../data/y_train.npy', y_train)\n",
    "np.save('../data/y_test.npy', y_test)"
   ]
  }
 ],
 "metadata": {
  "kernelspec": {
   "display_name": "Python 3",
   "language": "python",
   "name": "python3"
  },
  "language_info": {
   "codemirror_mode": {
    "name": "ipython",
    "version": 3
   },
   "file_extension": ".py",
   "mimetype": "text/x-python",
   "name": "python",
   "nbconvert_exporter": "python",
   "pygments_lexer": "ipython3",
   "version": "3.12.5"
  }
 },
 "nbformat": 4,
 "nbformat_minor": 2
}
